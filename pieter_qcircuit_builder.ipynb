
{
 "cells": [
  {
   "cell_type": "code",
   "execution_count": 134,
   "id": "95e9dc82-e178-4e33-9c03-859ff7cba26e",
   "metadata": {},
   "outputs": [],
   "source": [
    "# import packages\n",
    "from qiskit import QuantumCircuit\n",
    "from qiskit.visualization import plot_histogram\n",
    "from qiskit_ionq import IonQProvider\n",
    "from qiskit import transpile\n",
    "from math import pi\n",
    "\n",
    "provider = IonQProvider(token='eHMFfV9o1gffeXCQLlpzKdh1nvoGUT1A')"
   ]
  },
  {
   "cell_type": "code",
   "execution_count": 167,
   "id": "145f6a6a-1dbb-4864-8963-604af324e330",
   "metadata": {
    "tags": []
   },
   "outputs": [],
   "source": [
    "def intra_finch_evolution(qcircuit, finch_N, theta_i, theta_intra):\n",
    "    \n",
    "    characteristics_per_finch = 4\n",
    "    for ii in range(characteristics_per_finch):\n",
    "        qubit_N = ii+characteristics_per_finch*finch_N\n",
    "        qcircuit.rx(theta_i[qubit_N],qubit_N)\n",
    "        \n",
    "    qcircuit.rxx(theta_intra[finch_N][0],0+characteristics_per_finch*finch_N, 2+characteristics_per_finch*finch_N)\n",
    "    qcircuit.rxx(theta_intra[finch_N][1],1+characteristics_per_finch*finch_N, 3+characteristics_per_finch*finch_N)\n",
    "    qcircuit.rxx(theta_intra[finch_N][2],0+characteristics_per_finch*finch_N, 3+characteristics_per_finch*finch_N)\n",
    "\n",
    "def inter_finch_evolution(qcircuit, finch_Ns, characteristic, theta_inter):\n",
    "    \n",
    "    characteristics_per_finch = 4\n",
    "    \n",
    "    for ii in range(len(characteristic)):\n",
    "        partial_swap(qcircuit, finch_Ns, characteristic[ii], theta_inter[ii])\n",
    "    \n",
    "def create_quantum_circuit(theta_i, theta_intra, theta_inter, N_finches=2):\n",
    "    \n",
    "    characteristics_per_finch = 4\n",
    "    \n",
    "    finch_evolution = QuantumCircuit(N_finches*characteristics_per_finch,N_finches*characteristics_per_finch)\n",
    "    \n",
    "    for ii in range(N_finches):\n",
    "        intra_finch_evolution(finch_evolution, ii, theta_i, theta_intra)\n",
    "        \n",
    "        \n",
    "    inter_finch_evolution(finch_evolution, [0,1], [0,3], theta_inter)\n",
    "    \n",
    "    finch_evolution.measure(range(characteristics_per_finch*N_finches), range(characteristics_per_finch*N_finches))  \n",
    "    \n",
    "    return finch_evolution\n",
    "\n",
    "def partial_swap(qcircuit, finch_Ns, characteristic, theta_inter):\n",
    "    \n",
    "    characteristics_per_finch = 4\n",
    "    \n",
    "    qcircuit.crx(pi, characteristic+finch_Ns[0]*characteristics_per_finch, \n",
    "                      characteristic+finch_Ns[1]*characteristics_per_finch)\n",
    "    \n",
    "    qcircuit.crx(theta_inter, characteristic+finch_Ns[1]*characteristics_per_finch, \n",
    "                      characteristic+finch_Ns[0]*characteristics_per_finch)\n",
    "    \n",
    "    qcircuit.crx(pi, characteristic+finch_Ns[0]*characteristics_per_finch, \n",
    "                      characteristic+finch_Ns[1]*characteristics_per_finch)\n",
    "    "
   ]
  },
  {
   "cell_type": "code",
   "execution_count": 168,
   "id": "94910883-3f2b-487f-a27b-06a29eea86df",
   "metadata": {},
   "outputs": [],
   "source": [
    "theta_i = [pi,pi,pi,pi,pi/2,pi/2,pi/2,pi/2]\n",
    "theta_intra = [[pi/10,pi/10,pi/10],[pi/10,pi/10,pi/10]]\n",
    "theta_inter = [pi/4, pi/4]\n",
    "\n",
    "\n",
    "circuit = create_quantum_circuit(theta_i, theta_intra, theta_inter, N_finches=2)"
   ]
  },
  {
   "cell_type": "code",
   "execution_count": 169,
   "id": "4fbdc2ae-4035-45ff-abe6-317029db108a",
   "metadata": {},
   "outputs": [
    {
     "data": {
      "text/plain": [
       "[<IonQSimulatorBackend('ionq_simulator')>, <IonQQPUBackend('ionq_qpu')>]"
      ]
     },
     "execution_count": 169,
     "metadata": {},
     "output_type": "execute_result"
    }
   ],
   "source": [
    "# view list of available backends\n",
    "provider.backends()"
   ]
  },
  {
   "cell_type": "code",
   "execution_count": 170,
   "id": "8319fedc-4676-46ac-8359-386e337ea008",
   "metadata": {},
   "outputs": [],
   "source": [
    "# load backend by using the get_backend method\n",
    "backend = provider.get_backend(\"ionq_simulator\")"
   ]
  },
  {
   "cell_type": "code",
   "execution_count": 171,
   "id": "ff305e36-7e71-4254-8bdc-3705abfdbd7e",
   "metadata": {},
   "outputs": [
    {
     "name": "stdout",
     "output_type": "stream",
     "text": [
      "      ┌───────┐ ┌────────────┐              ┌────────────┐               »\n",
      "q_0: ─┤ Rx(π) ├─┤0           ├──────────────┤0           ├──────────■────»\n",
      "      ├───────┤ │            │┌────────────┐│            │┌─┐       │    »\n",
      "q_1: ─┤ Rx(π) ├─┤  Rxx(π/10) ├┤0           ├┤            ├┤M├───────┼────»\n",
      "      ├───────┤ │            ││            ││  Rxx(π/10) │└╥┘┌─┐    │    »\n",
      "q_2: ─┤ Rx(π) ├─┤1           ├┤  Rxx(π/10) ├┤            ├─╫─┤M├────┼────»\n",
      "      ├───────┤ └────────────┘│            ││            │ ║ └╥┘    │    »\n",
      "q_3: ─┤ Rx(π) ├───────────────┤1           ├┤1           ├─╫──╫─────┼────»\n",
      "     ┌┴───────┴┐┌────────────┐└────────────┘├────────────┤ ║  ║ ┌───┴───┐»\n",
      "q_4: ┤ Rx(π/2) ├┤0           ├──────────────┤0           ├─╫──╫─┤ Rx(π) ├»\n",
      "     ├─────────┤│            │┌────────────┐│            │ ║  ║ └──┬─┬──┘»\n",
      "q_5: ┤ Rx(π/2) ├┤  Rxx(π/10) ├┤0           ├┤            ├─╫──╫────┤M├───»\n",
      "     ├─────────┤│            ││            ││  Rxx(π/10) │ ║  ║    └╥┘   »\n",
      "q_6: ┤ Rx(π/2) ├┤1           ├┤  Rxx(π/10) ├┤            ├─╫──╫─────╫────»\n",
      "     ├─────────┤└────────────┘│            ││            │ ║  ║     ║    »\n",
      "q_7: ┤ Rx(π/2) ├──────────────┤1           ├┤1           ├─╫──╫─────╫────»\n",
      "     └─────────┘              └────────────┘└────────────┘ ║  ║     ║    »\n",
      "c: 8/══════════════════════════════════════════════════════╩══╩═════╩════»\n",
      "                                                           1  2     5    »\n",
      "«     ┌─────────┐                                      ┌─┐         \n",
      "«q_0: ┤ Rx(π/4) ├────────────────────────■─────────────┤M├─────────\n",
      "«     └────┬────┘                        │             └╥┘         \n",
      "«q_1: ─────┼─────────────────────────────┼──────────────╫──────────\n",
      "«          │                             │              ║          \n",
      "«q_2: ─────┼─────────────────────────────┼──────────────╫──────────\n",
      "«          │              ┌─────────┐    │              ║ ┌─┐      \n",
      "«q_3: ─────┼─────────■────┤ Rx(π/4) ├────┼────────■─────╫─┤M├──────\n",
      "«          │         │    └────┬────┘┌───┴───┐    │     ║ └╥┘┌─┐   \n",
      "«q_4: ─────■─────────┼─────────┼─────┤ Rx(π) ├────┼─────╫──╫─┤M├───\n",
      "«                    │         │     └───────┘    │     ║  ║ └╥┘   \n",
      "«q_5: ───────────────┼─────────┼──────────────────┼─────╫──╫──╫────\n",
      "«         ┌─┐        │         │                  │     ║  ║  ║    \n",
      "«q_6: ────┤M├────────┼─────────┼──────────────────┼─────╫──╫──╫────\n",
      "«         └╥┘    ┌───┴───┐     │              ┌───┴───┐ ║  ║  ║ ┌─┐\n",
      "«q_7: ─────╫─────┤ Rx(π) ├─────■──────────────┤ Rx(π) ├─╫──╫──╫─┤M├\n",
      "«          ║     └───────┘                    └───────┘ ║  ║  ║ └╥┘\n",
      "«c: 8/═════╩════════════════════════════════════════════╩══╩══╩══╩═\n",
      "«          6                                            0  3  4  7 \n"
     ]
    }
   ],
   "source": [
    "transpiled = transpile(circuit, backend)\n",
    "print(transpiled)"
   ]
  },
  {
   "cell_type": "code",
   "execution_count": 172,
   "id": "32015f7f-169e-429b-aa34-8e2f969254d9",
   "metadata": {},
   "outputs": [],
   "source": [
    "# submit the circuit\n",
    "\n",
    "job = backend.run(circuit)"
   ]
  },
  {
   "cell_type": "code",
   "execution_count": 173,
   "id": "49c04e07-7a36-45eb-8f6b-f440ba2029ca",
   "metadata": {},
   "outputs": [],
   "source": [
    "result = job.result()"
   ]
  },
  {
   "cell_type": "code",
   "execution_count": 174,
   "id": "c3303c49-0682-4e65-a579-2f5c2104e75f",
   "metadata": {},
   "outputs": [],
   "source": [
    "#get counts\n",
    "counts = result.get_counts()"
   ]
  },
  {
   "cell_type": "code",
   "execution_count": 202,
   "id": "82c25961-b865-479b-9166-d36537143abe",
   "metadata": {},
   "outputs": [],
   "source": [
    "def characteristic_results_from_outcome(counts,shots,finch_N=2):\n",
    "    \n",
    "    characteristics_per_finch = 4\n",
    "    characteristic_results = np.zeros(finch_N*characteristics_per_finch)\n",
    "\n",
    "    for kk in range(len(characteristic_results)):\n",
    "        for ii in range(2**(len(characteristic_results)-1)):\n",
    "            string = np.binary_repr(ii,width=(len(characteristic_results)-1))[:kk]+str(1)+np.binary_repr(ii,width=(len(characteristic_results)-1))[kk:]\n",
    "            if string in counts:\n",
    "                characteristic_results[kk] += counts[string]\n",
    "                \n",
    "    return characteristic_results/shots\n",
    " "
   ]
  },
  {
   "cell_type": "code",
   "execution_count": 176,
   "id": "339a8ef6-2a29-458c-abad-076e0368ebc9",
   "metadata": {},
   "outputs": [
    {
     "data": {
      "text/plain": [
       "([0, 1, 2, 3, 4, 5, 6, 7],\n",
       " [Text(0, 0, 'color finch 1'),\n",
       "  Text(1, 0, 'beak size finch 1'),\n",
       "  Text(2, 0, 'wingspan finch 1'),\n",
       "  Text(3, 0, 'fatness finch 1'),\n",
       "  Text(4, 0, 'color finch 2'),\n",
       "  Text(5, 0, 'beak size finch 2'),\n",
       "  Text(6, 0, 'wingspan finch 2'),\n",
       "  Text(7, 0, 'fatness finch 2')])"
      ]
     },
     "execution_count": 176,
     "metadata": {},
     "output_type": "execute_result"
    },
    {
     "data": {
      "image/png": "[encoded data removed]",
      "text/plain": [
       "<Figure size 432x288 with 1 Axes>"
      ]
     },
     "metadata": {
      "needs_background": "light"
     },
     "output_type": "display_data"
    }
   ],
   "source": [
    "import matplotlib.pyplot as plt\n",
    "\n",
    "characteristic_results = characteristic_results_from_outcome(counts,finch_N=2)\n",
    "                    \n",
    "plt.bar(['color finch 1','beak size finch 1','wingspan finch 1','fatness finch 1',\n",
    "        'color finch 2','beak size finch 2','wingspan finch 2','fatness finch 2'], characteristic_results)\n",
    "\n",
    "plt.xticks(rotation=90)"
   ]
  },
  {
   "cell_type": "code",
   "execution_count": 203,
   "id": "26237afa-4e20-4067-9069-d453662ce965",
   "metadata": {},
   "outputs": [],
   "source": [
    "def theta_is_from_outcome(characteristic_results):\n",
    "    theta_i = np.arccos(np.sqrt(characteristic_results))\n",
    "    return 2*theta_i"
   ]
  },
  {
   "cell_type": "code",
   "execution_count": 204,
   "id": "8d75d463-494a-4f24-bc8a-45995f0285c4",
   "metadata": {},
   "outputs": [],
   "source": [
    "def natural_selection_modifier(theta_i, preferred_characteristics, multiplier):\n",
    "    return multiplier*(pi*preferred_characteristics-theta_i) + theta_i"
   ]
  },
  {
   "cell_type": "code",
   "execution_count": 147,
   "id": "0e5bba65-7e8d-40d8-9b99-a048347458ea",
   "metadata": {},
   "outputs": [],
   "source": [
    "characteristic_results = characteristic_results_from_outcome(counts,finch_N=2)"
   ]
  },
  {
   "cell_type": "code",
   "execution_count": 148,
   "id": "d596c955-7f05-4182-9412-fc0c37f9debe",
   "metadata": {},
   "outputs": [],
   "source": [
    "theta_i = theta_is_from_outcome(characteristic_results)\n",
    "\n",
    "preferred_characteristics = np.array([0,0,0,0,0,1,1,1,1,1])\n",
    "multiplier = np.array([1,1,1,1,1,1,1,1,1,1])\n",
    "\n",
    "theta_i = natural_selection_modifier(theta_i, preferred_characteristics, multiplier)"
   ]
  },
  {
   "cell_type": "code",
   "execution_count": 149,
   "id": "790b75f5-ebb0-4aa3-8e37-c0808fdabcd5",
   "metadata": {},
   "outputs": [],
   "source": [
    "#theta_intra = [[0,0,0],[pi,pi,pi]]\n",
    "theta_intra = [[pi/10,pi/10,pi/10],[pi/10,pi/10,pi/10]]\n",
    "theta_inter = [pi/4, pi/4]\n",
    "\n",
    "\n",
    "circuit = create_quantum_circuit(theta_i, theta_intra, theta_inter, N_finches=2)"
   ]
  },
  {
   "cell_type": "code",
   "execution_count": 198,
   "id": "b0634d4a-2579-4f2c-9118-6a7805c8fad2",
   "metadata": {},
   "outputs": [],
   "source": [
    "job = backend.run(circuit, shots=50)\n",
    "result = job.result()\n",
    "counts = result.get_counts()"
   ]
  },
  {
   "cell_type": "code",
   "execution_count": 201,
   "id": "58faf4ea-6693-418c-acda-ce9c69ca4ff9",
   "metadata": {},
   "outputs": [
    {
     "data": {
      "text/plain": [
       "([0, 1, 2, 3, 4, 5, 6, 7],\n",
       " [Text(0, 0, 'color finch 1'),\n",
       "  Text(1, 0, 'beak size finch 1'),\n",
       "  Text(2, 0, 'wingspan finch 1'),\n",
       "  Text(3, 0, 'fatness finch 1'),\n",
       "  Text(4, 0, 'color finch 2'),\n",
       "  Text(5, 0, 'beak size finch 2'),\n",
       "  Text(6, 0, 'wingspan finch 2'),\n",
       "  Text(7, 0, 'fatness finch 2')])"
      ]
     },
     "execution_count": 201,
     "metadata": {},
     "output_type": "execute_result"
    },
    {
     "data": {
      "image/png": "[encoded data removed]",
      "text/plain": [
       "<Figure size 432x288 with 1 Axes>"
      ]
     },
     "metadata": {
      "needs_background": "light"
     },
     "output_type": "display_data"
    }
   ],
   "source": [
    "characteristic_results = characteristic_results_from_outcome(counts,finch_N=2)\n",
    "                    \n",
    "plt.bar(['color finch 1','beak size finch 1','wingspan finch 1','fatness finch 1',\n",
    "        'color finch 2','beak size finch 2','wingspan finch 2','fatness finch 2'], characteristic_results/50)\n",
    "\n",
    "plt.xticks(rotation=90)"
   ]
  },
  {
   "cell_type": "code",
   "execution_count": 210,
   "id": "bef84cd0-42ad-42e0-acdf-4d5146b37132",
   "metadata": {},
   "outputs": [],
   "source": [
    "def multi_generation_evolution(N_gen, theta_i, theta_intra, preferred_characteristics, multiplier, shots, N_finches=2):\n",
    "    \n",
    "    plt.subplot(N_gen+1,1,1)\n",
    "                    \n",
    "    plt.bar(['color finch 1','beak size finch 1','wingspan finch 1','fatness finch 1',\n",
    "            'color finch 2','beak size finch 2','wingspan finch 2','fatness finch 2'], np.sin(theta_i[::-1]/2)**2)\n",
    "\n",
    "    plt.xticks(rotation=90)\n",
    "\n",
    "    plt.ylabel('Gen 0')\n",
    "        \n",
    "    for generation in range(N_gen):\n",
    "        \n",
    "        circuit = create_quantum_circuit(theta_i, theta_intra, theta_inter, N_finches)\n",
    "        \n",
    "        job = backend.run(circuit, shots=50)\n",
    "        result = job.result()\n",
    "        counts = result.get_counts()\n",
    "        \n",
    "        characteristic_results = characteristic_results_from_outcome(counts,shots,finch_N=2)\n",
    "        \n",
    "        theta_i = theta_is_from_outcome(characteristic_results)\n",
    "\n",
    "        theta_i = natural_selection_modifier(theta_i, preferred_characteristics, multiplier)\n",
    "        \n",
    "        plt.subplot(N_gen+1,1,generation+2)\n",
    "                    \n",
    "        plt.bar(['color finch 1','beak size finch 1','wingspan finch 1','fatness finch 1',\n",
    "                'color finch 2','beak size finch 2','wingspan finch 2','fatness finch 2'], characteristic_results)\n",
    "\n",
    "        plt.xticks(rotation=90)\n",
    "        \n",
    "        plt.ylabel('Gen ' + str(generation+1))\n",
    "        \n",
    "    plt.show()\n",
    "    "
   ]
  },
  {
   "cell_type": "code",
   "execution_count": null,
   "id": "a9e0686d-2251-4bc3-a724-66e662c0f4d7",
   "metadata": {},
   "outputs": [],
   "source": []
  },
  {
   "cell_type": "code",
   "execution_count": 211,
   "id": "41c9a5d8-3650-4bed-a814-88d51d408c92",
   "metadata": {},
   "outputs": [
    {
     "data": {
      "image/png": "[encoded data removed]",
      "text/plain": [
       "<Figure size 432x288 with 4 Axes>"
      ]
     },
     "metadata": {
      "needs_background": "light"
     },
     "output_type": "display_data"
    }
   ],
   "source": [
    "N_gen = 3\n",
    "\n",
    "theta_i = np.array([pi/2,pi/2,pi/2,pi/2,pi/2,pi/2,pi/2,pi/2])\n",
    "theta_intra = [[pi/10,pi/10,pi/10],[pi/10,pi/10,pi/10]]\n",
    "theta_inter = [pi/4, pi/4]\n",
    "\n",
    "preferred_characteristics = np.array([1,1,1,1,0,0,0,0])\n",
    "multiplier = 0.3*np.array([1,1,1,1,1,1,1,1])\n",
    "\n",
    "shots = 50\n",
    "\n",
    "multi_generation_evolution(N_gen, theta_i, theta_intra, preferred_characteristics, multiplier, shots, N_finches=2)\n",
    "\n",
    "\n",
    "\n",
    "\n"
   ]
  },
  {
   "cell_type": "code",
   "execution_count": null,
   "id": "e9f8957a-dfbd-4416-92c4-226b327acf75",
   "metadata": {},
   "outputs": [],
   "source": []
  }
 ],
 "metadata": {
  "kernelspec": {
   "display_name": "Python 3 [IonQ]",
   "language": "python",
   "name": "python3_ionq_6vdluz"
  },
  "language_info": {
   "codemirror_mode": {
    "name": "ipython",
    "version": 3
   },
   "file_extension": ".py",
   "mimetype": "text/x-python",
   "name": "python",
   "nbconvert_exporter": "python",
   "pygments_lexer": "ipython3",
   "version": "3.9.10"
  }
 },
 "nbformat": 4,
 "nbformat_minor": 5
}
