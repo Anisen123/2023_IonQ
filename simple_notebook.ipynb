{
 "cells": [
  {
   "cell_type": "code",
   "execution_count": 1,
   "id": "57af54b4-f6eb-44c2-bf4c-25860688510b",
   "metadata": {},
   "outputs": [],
   "source": [
    "import numpy as np\n",
    "import finch_functions\n",
    "from math import pi"
   ]
  },
  {
   "cell_type": "code",
   "execution_count": 2,
   "id": "3830ba07-dd25-4567-8530-d10d9e401060",
   "metadata": {},
   "outputs": [],
   "source": [
    "finch_e = finch_functions.finchEvolver(N_finches=2)"
   ]
  },
  {
   "cell_type": "code",
   "execution_count": 3,
   "id": "e7000294-a781-4642-925b-2b05fa66faf3",
   "metadata": {},
   "outputs": [],
   "source": [
    "N_gen = 2\n",
    "\n",
    "theta_i = np.array([pi/2,pi/2,pi/2,pi/2,pi/2,pi/2,pi/2,pi/2])\n",
    "theta_intra = [[pi/10,pi/10],[pi/10,pi/10]]\n",
    "theta_inter = [pi/4, pi/4]\n",
    "\n",
    "preferred_characteristics = np.array([1,0,0,0.5,0,1,1,1])\n",
    "multiplier = 0.1*np.array([1,0,1,0,1,0,0,1])\n",
    "\n",
    "shots = 50"
   ]
  },
  {
   "cell_type": "code",
   "execution_count": 5,
   "id": "df978477-1c38-4798-80c6-d4c67c19c78d",
   "metadata": {},
   "outputs": [
    {
     "name": "stdout",
     "output_type": "stream",
     "text": [
      "     ┌─────────┐            ┌──────────┐                         ░          »\n",
      "q_0: ┤ Rx(π/2) ├─────■──────┤ Rx(π/10) ├─────────────────────────░─────■────»\n",
      "     ├─────────┤     │      └────┬─────┘            ┌──────────┐ ░     │    »\n",
      "q_1: ┤ Rx(π/2) ├─────┼───────────┼───────────■──────┤ Rx(π/10) ├─░─────┼────»\n",
      "     ├─────────┤┌────┴─────┐     │      ┌────┴─────┐└────┬─────┘ ░     │    »\n",
      "q_2: ┤ Rx(π/2) ├┤ Rx(π/10) ├─────■──────┤ Rx(π/10) ├─────■───────░─────┼────»\n",
      "     ├─────────┤└──────────┘            └──────────┘             ░     │    »\n",
      "q_3: ┤ Rx(π/2) ├─────────────────────────────────────────────────░─────┼────»\n",
      "     ├─────────┤            ┌──────────┐                         ░ ┌───┴───┐»\n",
      "q_4: ┤ Rx(π/2) ├─────■──────┤ Rx(π/10) ├─────────────────────────░─┤ Rx(π) ├»\n",
      "     ├─────────┤     │      └────┬─────┘            ┌──────────┐ ░ └───────┘»\n",
      "q_5: ┤ Rx(π/2) ├─────┼───────────┼───────────■──────┤ Rx(π/10) ├─░──────────»\n",
      "     ├─────────┤┌────┴─────┐     │      ┌────┴─────┐└────┬─────┘ ░          »\n",
      "q_6: ┤ Rx(π/2) ├┤ Rx(π/10) ├─────■──────┤ Rx(π/10) ├─────■───────░──────────»\n",
      "     ├─────────┤└──────────┘            └──────────┘             ░          »\n",
      "q_7: ┤ Rx(π/2) ├─────────────────────────────────────────────────░──────────»\n",
      "     └─────────┘                                                 ░          »\n",
      "c: 8/═══════════════════════════════════════════════════════════════════════»\n",
      "                                                                            »\n",
      "«     ┌─────────┐          ░                               ░             »\n",
      "«q_0: ┤ Rx(π/4) ├────■─────░───────────────────────────────░──────■──────»\n",
      "«     └────┬────┘    │     ░                               ░      │      »\n",
      "«q_1: ─────┼─────────┼─────░───────────────────────────────░──────┼──────»\n",
      "«          │         │     ░                               ░ ┌────┴─────┐»\n",
      "«q_2: ─────┼─────────┼─────░───────────────────────────────░─┤ Rx(π/10) ├»\n",
      "«          │         │     ░          ┌─────────┐          ░ └──────────┘»\n",
      "«q_3: ─────┼─────────┼─────░─────■────┤ Rx(π/4) ├────■─────░─────────────»\n",
      "«          │     ┌───┴───┐ ░     │    └────┬────┘    │     ░             »\n",
      "«q_4: ─────■─────┤ Rx(π) ├─░─────┼─────────┼─────────┼─────░──────■──────»\n",
      "«                └───────┘ ░     │         │         │     ░      │      »\n",
      "«q_5: ─────────────────────░─────┼─────────┼─────────┼─────░──────┼──────»\n",
      "«                          ░     │         │         │     ░ ┌────┴─────┐»\n",
      "«q_6: ─────────────────────░─────┼─────────┼─────────┼─────░─┤ Rx(π/10) ├»\n",
      "«                          ░ ┌───┴───┐     │     ┌───┴───┐ ░ └──────────┘»\n",
      "«q_7: ─────────────────────░─┤ Rx(π) ├─────■─────┤ Rx(π) ├─░─────────────»\n",
      "«                          ░ └───────┘           └───────┘ ░             »\n",
      "«c: 8/═══════════════════════════════════════════════════════════════════»\n",
      "«                                                                        »\n",
      "«     ┌──────────┐                         ░ ┌─┐                     \n",
      "«q_0: ┤ Rx(π/10) ├─────────────────────────░─┤M├─────────────────────\n",
      "«     └────┬─────┘            ┌──────────┐ ░ └╥┘┌─┐                  \n",
      "«q_1: ─────┼───────────■──────┤ Rx(π/10) ├─░──╫─┤M├──────────────────\n",
      "«          │      ┌────┴─────┐└────┬─────┘ ░  ║ └╥┘┌─┐               \n",
      "«q_2: ─────■──────┤ Rx(π/10) ├─────■───────░──╫──╫─┤M├───────────────\n",
      "«                 └──────────┘             ░  ║  ║ └╥┘┌─┐            \n",
      "«q_3: ─────────────────────────────────────░──╫──╫──╫─┤M├────────────\n",
      "«     ┌──────────┐                         ░  ║  ║  ║ └╥┘┌─┐         \n",
      "«q_4: ┤ Rx(π/10) ├─────────────────────────░──╫──╫──╫──╫─┤M├─────────\n",
      "«     └────┬─────┘            ┌──────────┐ ░  ║  ║  ║  ║ └╥┘┌─┐      \n",
      "«q_5: ─────┼───────────■──────┤ Rx(π/10) ├─░──╫──╫──╫──╫──╫─┤M├──────\n",
      "«          │      ┌────┴─────┐└────┬─────┘ ░  ║  ║  ║  ║  ║ └╥┘┌─┐   \n",
      "«q_6: ─────■──────┤ Rx(π/10) ├─────■───────░──╫──╫──╫──╫──╫──╫─┤M├───\n",
      "«                 └──────────┘             ░  ║  ║  ║  ║  ║  ║ └╥┘┌─┐\n",
      "«q_7: ─────────────────────────────────────░──╫──╫──╫──╫──╫──╫──╫─┤M├\n",
      "«                                          ░  ║  ║  ║  ║  ║  ║  ║ └╥┘\n",
      "«c: 8/════════════════════════════════════════╩══╩══╩══╩══╩══╩══╩══╩═\n",
      "«                                             0  1  2  3  4  5  6  7 \n"
     ]
    }
   ],
   "source": [
    "finch_e.draw_q_circuit(theta_i, theta_intra, theta_inter)"
   ]
  },
  {
   "cell_type": "code",
   "execution_count": 4,
   "id": "5ff66019-6399-4731-bc14-654d1364316e",
   "metadata": {},
   "outputs": [
    {
     "data": {
      "image/png": "[encoded data removed]",
      "text/plain": [
       "<Figure size 720x1080 with 3 Axes>"
      ]
     },
     "metadata": {
      "needs_background": "light"
     },
     "output_type": "display_data"
    }
   ],
   "source": [
    "finch_e.multi_generation_evolution_plotting(N_gen, theta_i, theta_intra, theta_inter, preferred_characteristics, multiplier, shots, noise_model='aria-1')\n",
    "\n"
   ]
  },
  {
   "cell_type": "code",
   "execution_count": 20,
   "id": "fbabdc20-7e1a-4473-971b-0144d6c9b067",
   "metadata": {},
   "outputs": [],
   "source": [
    "data = finch_e.multi_generation_evolution_just_data(N_gen, theta_i, theta_intra, theta_inter, preferred_characteristics, multiplier, shots)\n",
    "\n"
   ]
  },
  {
   "cell_type": "code",
   "execution_count": 21,
   "id": "6953455e-78a0-4eb4-a67d-e9a33a054a3e",
   "metadata": {},
   "outputs": [
    {
     "data": {
      "text/plain": [
       "array([[0.5 , 0.5 , 0.5 , 0.5 , 0.5 , 0.5 , 0.5 , 0.5 ],\n",
       "       [0.34, 0.8 , 0.68, 0.58, 0.7 , 0.62, 0.6 , 0.66],\n",
       "       [0.28, 0.6 , 0.48, 0.34, 0.7 , 0.62, 0.32, 0.86],\n",
       "       [0.08, 0.82, 0.76, 0.46, 0.76, 0.78, 0.52, 0.82]])"
      ]
     },
     "execution_count": 21,
     "metadata": {},
     "output_type": "execute_result"
    }
   ],
   "source": [
    "data"
   ]
  },
  {
   "cell_type": "code",
   "execution_count": 26,
   "id": "5516113a-42ec-4f83-8284-483c59b9be19",
   "metadata": {},
   "outputs": [],
   "source": [
    "N_gen = 2\n",
    "\n",
    "theta_i = np.array([pi/2,pi/2,pi/2,pi/2,pi/2,pi/2,pi/2,pi/2])\n",
    "theta_intra = [[pi/10,pi/10],[pi/10,pi/10]]\n",
    "theta_inter = [pi/4, pi/4]\n",
    "\n",
    "preferred_characteristics = np.array([1,0,0,0.5,0,1,1,1])\n",
    "multiplier = 0.1*np.array([1,0,1,0,1,0,0,1])\n",
    "\n",
    "data, raw_data = finch_e.multi_generation_evolution_just_data_harmony(N_gen, theta_i, theta_intra, theta_inter, preferred_characteristics, multiplier, shots)\n"
   ]
  },
  {
   "cell_type": "code",
   "execution_count": 27,
   "id": "8c15d3b3-274c-4455-94f0-c29b79b0c8d9",
   "metadata": {},
   "outputs": [
    {
     "data": {
      "text/plain": [
       "array([[0.5 , 0.5 , 0.5 , 0.5 , 0.5 , 0.5 , 0.5 , 0.5 ],\n",
       "       [0.52, 0.56, 0.7 , 0.58, 0.46, 0.74, 0.68, 0.62],\n",
       "       [0.32, 0.34, 0.34, 0.44, 0.32, 0.54, 0.56, 0.54]])"
      ]
     },
     "execution_count": 27,
     "metadata": {},
     "output_type": "execute_result"
    }
   ],
   "source": [
    "data"
   ]
  },
  {
   "cell_type": "code",
   "execution_count": 6,
   "id": "4f698a34-333b-42c2-9a31-fa3790f8bce9",
   "metadata": {},
   "outputs": [],
   "source": [
    "finch_e = finch_functions.finchEvolver(N_finches=3)\n",
    "\n",
    "N_gen = 3\n",
    "\n",
    "theta_i = np.array([pi/2,pi/2,pi/2,pi/2,pi/2,pi/2,pi/2,pi/2,pi/2,pi/2,pi/2,pi/2])\n",
    "theta_intra = [[pi/10,pi/10],[pi/10,pi/10],[pi/10,pi/10]]\n",
    "theta_inter = [pi/4, pi/4,pi/4, pi/4]\n",
    "\n",
    "preferred_characteristics = np.array([1,0,0,0.5,0,1,1,1,0,0,0,0])\n",
    "multiplier = 0.1*np.array([1,0,1,0,1,0,0,1,1,1,1,1])\n",
    "\n",
    "shots = 50"
   ]
  },
  {
   "cell_type": "code",
   "execution_count": null,
   "id": "d45f2555-5fe1-4ad9-9cb3-9eef743ab5a2",
   "metadata": {},
   "outputs": [],
   "source": [
    "data = finch_e.multi_generation_evolution_just_data(N_gen, theta_i, theta_intra, theta_inter, preferred_characteristics, multiplier, shots)\n"
   ]
  }
 ],
 "metadata": {
  "kernelspec": {
   "display_name": "Python 3 [IonQ]",
   "language": "python",
   "name": "python3_ionq_6vdluz"
  },
  "language_info": {
   "codemirror_mode": {
    "name": "ipython",
    "version": 3
   },
   "file_extension": ".py",
   "mimetype": "text/x-python",
   "name": "python",
   "nbconvert_exporter": "python",
   "pygments_lexer": "ipython3",
   "version": "3.9.10"
  }
 },
 "nbformat": 4,
 "nbformat_minor": 5
}
